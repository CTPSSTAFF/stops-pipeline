{
 "cells": [
  {
   "cell_type": "code",
   "execution_count": 1,
   "id": "317b1645",
   "metadata": {},
   "outputs": [
    {
     "name": "stdout",
     "output_type": "stream",
     "text": [
      "Processing files and extracting data...\n",
      "Saving processed data to both long and wide format CSVs...\n",
      "Generating visualizations...\n",
      "Report generation complete.\n"
     ]
    }
   ],
   "source": [
    "from stops_analysis_report_builder import ReportGenerator\n",
    "\n",
    "# Define file patterns\n",
    "table_9_01_files = \"extracted_csv_tables/Table_9_01/*__Table_9_01.csv\"\n",
    "table_10_01_files = \"extracted_csv_tables/Table_10_01/*__Table_10_01.csv\"\n",
    "\n",
    "# Instantiate the object with a custom export directory\n",
    "# The filenames will be automatically generated within this directory\n",
    "custom_output_dir = \"custom_report_exports\"\n",
    "generator = ReportGenerator(table_9_01_files, table_10_01_files, output_dir=custom_output_dir)\n",
    "\n",
    "# Run the report generation process\n",
    "generator.generate_report()"
   ]
  },
  {
   "cell_type": "code",
   "execution_count": null,
   "id": "19cfab3c",
   "metadata": {},
   "outputs": [],
   "source": []
  }
 ],
 "metadata": {
  "kernelspec": {
   "display_name": "Python 3",
   "language": "python",
   "name": "python3"
  },
  "language_info": {
   "codemirror_mode": {
    "name": "ipython",
    "version": 3
   },
   "file_extension": ".py",
   "mimetype": "text/x-python",
   "name": "python",
   "nbconvert_exporter": "python",
   "pygments_lexer": "ipython3",
   "version": "3.12.8"
  }
 },
 "nbformat": 4,
 "nbformat_minor": 5
}
